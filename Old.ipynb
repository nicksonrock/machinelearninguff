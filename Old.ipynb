{
  "metadata": {
    "kernelspec": {
      "language": "python",
      "display_name": "Python 3",
      "name": "python3"
    },
    "language_info": {
      "name": "python",
      "version": "3.7.10",
      "mimetype": "text/x-python",
      "codemirror_mode": {
        "name": "ipython",
        "version": 3
      },
      "pygments_lexer": "ipython3",
      "nbconvert_exporter": "python",
      "file_extension": ".py"
    },
    "colab": {
      "name": "TCC_ROCK_ML.ipynb",
      "provenance": [],
      "collapsed_sections": []
    }
  },
  "nbformat_minor": 0,
  "nbformat": 4,
  "cells": [
    {
      "cell_type": "markdown",
      "source": [
        "# Predição Machine Learning "
      ],
      "metadata": {
        "id": "SqYDM6gzBQ-n"
      }
    },
    {
      "cell_type": "markdown",
      "source": [
        "* ## Importando bibliotecas e dados"
      ],
      "metadata": {
        "id": "gzdITNLtBQ_B"
      }
    },
    {
      "cell_type": "code",
      "source": [
        "import pandas as pd\n",
        "import numpy as np\n",
        "import seaborn as sns\n",
        "import matplotlib.pyplot as plt\n",
        "%matplotlib inline\n",
        "\n",
        "sns.set_style(\"darkgrid\")"
      ],
      "metadata": {
        "_uuid": "8f2839f25d086af736a60e9eeb907d3b93b6e0e5",
        "_cell_guid": "b1076dfc-b9ad-4769-8c92-a6c4dae69d19",
        "execution": {
          "iopub.status.busy": "2022-02-11T06:11:24.23037Z",
          "iopub.execute_input": "2022-02-11T06:11:24.230855Z",
          "iopub.status.idle": "2022-02-11T06:11:25.195739Z",
          "shell.execute_reply.started": "2022-02-11T06:11:24.230823Z",
          "shell.execute_reply": "2022-02-11T06:11:25.194836Z"
        },
        "trusted": true,
        "id": "6Zb87eZRBQ_E"
      },
      "execution_count": null,
      "outputs": []
    },
    {
      "cell_type": "code",
      "source": [
        "data = pd.read_csv('https://raw.githubusercontent.com/nicksonrock/machinelearninguff/main/Base%20de%20Dados%20-%20Machine%20Learning_UFF%20-%20Manuten%C3%A7%C3%A3o%20Preditiva.csv')"
      ],
      "metadata": {
        "execution": {
          "iopub.status.busy": "2022-02-11T06:11:25.197021Z",
          "iopub.execute_input": "2022-02-11T06:11:25.197713Z",
          "iopub.status.idle": "2022-02-11T06:11:25.247705Z",
          "shell.execute_reply.started": "2022-02-11T06:11:25.197678Z",
          "shell.execute_reply": "2022-02-11T06:11:25.246778Z"
        },
        "trusted": true,
        "id": "2hAm-oBOBQ_K"
      },
      "execution_count": null,
      "outputs": []
    },
    {
      "cell_type": "code",
      "source": [
        "data.head()"
      ],
      "metadata": {
        "execution": {
          "iopub.status.busy": "2022-02-11T06:11:25.248937Z",
          "iopub.execute_input": "2022-02-11T06:11:25.249268Z",
          "iopub.status.idle": "2022-02-11T06:11:25.274829Z",
          "shell.execute_reply.started": "2022-02-11T06:11:25.249224Z",
          "shell.execute_reply": "2022-02-11T06:11:25.274027Z"
        },
        "trusted": true,
        "id": "i3vfkIKVBQ_L"
      },
      "execution_count": null,
      "outputs": []
    },
    {
      "cell_type": "code",
      "source": [
        "data.info()"
      ],
      "metadata": {
        "execution": {
          "iopub.status.busy": "2022-02-11T06:11:25.276498Z",
          "iopub.execute_input": "2022-02-11T06:11:25.276938Z",
          "iopub.status.idle": "2022-02-11T06:11:25.303758Z",
          "shell.execute_reply.started": "2022-02-11T06:11:25.276903Z",
          "shell.execute_reply": "2022-02-11T06:11:25.303017Z"
        },
        "trusted": true,
        "id": "y-H4F8RcBQ_O"
      },
      "execution_count": null,
      "outputs": []
    },
    {
      "cell_type": "markdown",
      "source": [
        "# Reprocessando dados"
      ],
      "metadata": {
        "id": "DN-yinqmBQ_P"
      }
    },
    {
      "cell_type": "markdown",
      "source": [
        "As colunas UDI e ID do Produto não carregam informações úteis para a análise."
      ],
      "metadata": {
        "id": "WRamYTS2BQ_R"
      }
    },
    {
      "cell_type": "code",
      "source": [
        "data = data.drop([\"UDI\",'ID Produto'],axis=1)\n",
        "data.head(3)"
      ],
      "metadata": {
        "execution": {
          "iopub.status.busy": "2022-02-11T06:11:25.304842Z",
          "iopub.execute_input": "2022-02-11T06:11:25.305422Z",
          "iopub.status.idle": "2022-02-11T06:11:25.323041Z",
          "shell.execute_reply.started": "2022-02-11T06:11:25.305384Z",
          "shell.execute_reply": "2022-02-11T06:11:25.321784Z"
        },
        "trusted": true,
        "id": "XgUkkXjWBQ_V"
      },
      "execution_count": null,
      "outputs": []
    },
    {
      "cell_type": "markdown",
      "source": [
        "# Quantidade Total de falhas"
      ],
      "metadata": {
        "id": "hzbUAu44BQ_Z"
      }
    },
    {
      "cell_type": "code",
      "source": [
        "data.groupby(['Falha', 'Tipo de falha']).count().drop(['Temperatura do Processo [K]',\n",
        "                                                      'Velocidade de Rotação [rpm]',\n",
        "                                                     'Torque [Nm]',\n",
        "                                                     'Tempo de uso [min]',\n",
        "                                                      'Temperatura do Ar [K]'],axis=1).rename(columns = {'Type':'count'})"
      ],
      "metadata": {
        "execution": {
          "iopub.status.busy": "2022-02-11T06:11:25.324758Z",
          "iopub.execute_input": "2022-02-11T06:11:25.325393Z",
          "iopub.status.idle": "2022-02-11T06:11:25.348084Z",
          "shell.execute_reply.started": "2022-02-11T06:11:25.325345Z",
          "shell.execute_reply": "2022-02-11T06:11:25.347384Z"
        },
        "trusted": true,
        "id": "PboB0qdHBQ_b"
      },
      "execution_count": null,
      "outputs": []
    },
    {
      "cell_type": "markdown",
      "source": [
        "# Visualização dos dados"
      ],
      "metadata": {
        "id": "p-qqsn_ABQ_u"
      }
    },
    {
      "cell_type": "code",
      "source": [
        "plt.figure(figsize=(10,8))\n",
        "sns.countplot(data=data,x=\"Falha\")"
      ],
      "metadata": {
        "execution": {
          "iopub.status.busy": "2022-02-11T06:11:25.399821Z",
          "iopub.execute_input": "2022-02-11T06:11:25.400232Z",
          "iopub.status.idle": "2022-02-11T06:11:25.6461Z",
          "shell.execute_reply.started": "2022-02-11T06:11:25.400197Z",
          "shell.execute_reply": "2022-02-11T06:11:25.645127Z"
        },
        "trusted": true,
        "id": "E6qVZb_2BQ_v"
      },
      "execution_count": null,
      "outputs": []
    },
    {
      "cell_type": "code",
      "source": [
        "plt.figure(figsize=(10,5))\n",
        "sns.countplot(data=data[data['Falha']==1],x=\"Tipo de falha\")"
      ],
      "metadata": {
        "execution": {
          "iopub.status.busy": "2022-02-11T06:11:25.648746Z",
          "iopub.execute_input": "2022-02-11T06:11:25.648979Z",
          "iopub.status.idle": "2022-02-11T06:11:26.014625Z",
          "shell.execute_reply.started": "2022-02-11T06:11:25.648949Z",
          "shell.execute_reply": "2022-02-11T06:11:26.013766Z"
        },
        "trusted": true,
        "id": "uL2s9kdoBQ_x"
      },
      "execution_count": null,
      "outputs": []
    },
    {
      "cell_type": "code",
      "source": [
        "sns.pairplot(data,hue='Falha')"
      ],
      "metadata": {
        "execution": {
          "iopub.status.busy": "2022-02-11T06:11:26.015729Z",
          "iopub.execute_input": "2022-02-11T06:11:26.015948Z",
          "iopub.status.idle": "2022-02-11T06:11:48.518436Z",
          "shell.execute_reply.started": "2022-02-11T06:11:26.015922Z",
          "shell.execute_reply": "2022-02-11T06:11:48.51782Z"
        },
        "trusted": true,
        "id": "HKC2pi_WBQ_2"
      },
      "execution_count": null,
      "outputs": []
    },
    {
      "cell_type": "markdown",
      "source": [
        "### Focaremos no Target Detection e ignorar o tipo de erro."
      ],
      "metadata": {
        "id": "PuzYfeAjBQ_3"
      }
    },
    {
      "cell_type": "code",
      "source": [
        "data.columns"
      ],
      "metadata": {
        "execution": {
          "iopub.status.busy": "2022-02-11T06:11:48.519821Z",
          "iopub.execute_input": "2022-02-11T06:11:48.520079Z",
          "iopub.status.idle": "2022-02-11T06:11:48.526843Z",
          "shell.execute_reply.started": "2022-02-11T06:11:48.520039Z",
          "shell.execute_reply": "2022-02-11T06:11:48.525918Z"
        },
        "trusted": true,
        "id": "sD7dKC8sBQ_4"
      },
      "execution_count": null,
      "outputs": []
    },
    {
      "cell_type": "code",
      "source": [
        "plt.figure(figsize = (20,15))\n",
        "m=1\n",
        "for i in ['Temperatura do Ar [K]', 'Temperatura do Processo [K]','Velocidade de Rotação [rpm]', 'Torque [Nm]', 'Tempo de uso [min]'] :\n",
        "    plt.subplot(3,2,m)\n",
        "    sns.boxplot(data=data,y=i,x=\"Tipo\",hue=\"Falha\")\n",
        "    m+=1"
      ],
      "metadata": {
        "execution": {
          "iopub.status.busy": "2022-02-11T06:11:48.528458Z",
          "iopub.execute_input": "2022-02-11T06:11:48.528837Z",
          "iopub.status.idle": "2022-02-11T06:11:50.377911Z",
          "shell.execute_reply.started": "2022-02-11T06:11:48.528803Z",
          "shell.execute_reply": "2022-02-11T06:11:50.37699Z"
        },
        "trusted": true,
        "id": "VaE9wppCBQ_5"
      },
      "execution_count": null,
      "outputs": []
    },
    {
      "cell_type": "code",
      "source": [
        "import plotly.express as px\n",
        "\n",
        "fig = px.scatter_3d(data, x='Tempo de uso [min]', y='Torque [Nm]', z='Velocidade de Rotação [rpm]',\n",
        "              color='Falha')\n",
        "fig.show()"
      ],
      "metadata": {
        "execution": {
          "iopub.status.busy": "2022-02-11T06:11:50.379205Z",
          "iopub.execute_input": "2022-02-11T06:11:50.37944Z",
          "iopub.status.idle": "2022-02-11T06:11:52.866382Z",
          "shell.execute_reply.started": "2022-02-11T06:11:50.379412Z",
          "shell.execute_reply": "2022-02-11T06:11:52.865541Z"
        },
        "trusted": true,
        "id": "opTs7fUoBQ_6"
      },
      "execution_count": null,
      "outputs": []
    },
    {
      "cell_type": "code",
      "source": [
        "def feat_prob(feature,data):\n",
        "    x,y = [],[]\n",
        "    for j in data[feature].unique():\n",
        "        temp = data\n",
        "        temp = temp[temp[feature]>=j]\n",
        "        y.append(round((temp.Falha.mean()*100),2))\n",
        "        x.append(j)\n",
        "    return(x,y)"
      ],
      "metadata": {
        "execution": {
          "iopub.status.busy": "2022-02-11T06:11:52.868001Z",
          "iopub.execute_input": "2022-02-11T06:11:52.868824Z",
          "iopub.status.idle": "2022-02-11T06:11:52.876787Z",
          "shell.execute_reply.started": "2022-02-11T06:11:52.868772Z",
          "shell.execute_reply": "2022-02-11T06:11:52.875852Z"
        },
        "trusted": true,
        "id": "6MLxQalqBQ_7"
      },
      "execution_count": null,
      "outputs": []
    },
    {
      "cell_type": "code",
      "source": [
        "plt.figure(figsize=(15,17))\n",
        "m=1\n",
        "for i in ['Temperatura do Ar [K]', 'Temperatura do Processo [K]','Velocidade de Rotação [rpm]', 'Torque [Nm]', 'Tempo de uso [min]'] :\n",
        "    plt.subplot(3,2,m).set_title(label=(\"Probabilidade de falha wrt \"+i))\n",
        "    x,y = feat_prob(i,data)\n",
        "    plt.xlabel(i)\n",
        "    plt.ylabel(\"Probabilidade de falha (%)\")\n",
        "    sns.lineplot(y=y,x=x)\n",
        "    m+=1"
      ],
      "metadata": {
        "execution": {
          "iopub.status.busy": "2022-02-11T06:11:52.878369Z",
          "iopub.execute_input": "2022-02-11T06:11:52.87902Z",
          "iopub.status.idle": "2022-02-11T06:11:55.883138Z",
          "shell.execute_reply.started": "2022-02-11T06:11:52.878969Z",
          "shell.execute_reply": "2022-02-11T06:11:55.88228Z"
        },
        "trusted": true,
        "id": "B2mGKfRcBQ_8"
      },
      "execution_count": null,
      "outputs": []
    },
    {
      "cell_type": "markdown",
      "source": [
        "# Pré Processamento para predição"
      ],
      "metadata": {
        "id": "V480XrEGBRAc"
      }
    },
    {
      "cell_type": "markdown",
      "source": [
        "## Codificação"
      ],
      "metadata": {
        "id": "eFAEzrhwBRAc"
      }
    },
    {
      "cell_type": "code",
      "source": [
        "from sklearn.preprocessing import LabelEncoder\n",
        "label_encoder = LabelEncoder()\n",
        "\n",
        "label_encoder.fit(data['Tipo'])\n",
        "data['Type'] = label_encoder.transform(data['Tipo'])\n",
        "\n",
        "label_encoder.fit(data['Falha'])\n",
        "data['Falha'] = label_encoder.transform(data['Falha'])"
      ],
      "metadata": {
        "execution": {
          "iopub.status.busy": "2022-02-11T06:12:25.091988Z",
          "iopub.execute_input": "2022-02-11T06:12:25.092714Z",
          "iopub.status.idle": "2022-02-11T06:12:25.215379Z",
          "shell.execute_reply.started": "2022-02-11T06:12:25.092664Z",
          "shell.execute_reply": "2022-02-11T06:12:25.213935Z"
        },
        "trusted": true,
        "id": "x_ItlhO7BRAv"
      },
      "execution_count": null,
      "outputs": []
    },
    {
      "cell_type": "code",
      "source": [
        "data.tail()"
      ],
      "metadata": {
        "execution": {
          "iopub.status.busy": "2022-02-11T06:12:26.966803Z",
          "iopub.execute_input": "2022-02-11T06:12:26.967152Z",
          "iopub.status.idle": "2022-02-11T06:12:26.986024Z",
          "shell.execute_reply.started": "2022-02-11T06:12:26.967118Z",
          "shell.execute_reply": "2022-02-11T06:12:26.985311Z"
        },
        "trusted": true,
        "id": "z2U7NX_FBRAw"
      },
      "execution_count": null,
      "outputs": []
    },
    {
      "cell_type": "markdown",
      "source": [
        "data = data.rename(columns = {'Air temperature [K]':'airtemp',\n",
        "                      'Process temperature [K]':'processtemp',\n",
        "                      'Rotational speed [rpm]':'rpm',\n",
        "                      'Torque [Nm]':'torque',\n",
        "                      'Tool wear [min]':'toolwear'})"
      ],
      "metadata": {
        "execution": {
          "iopub.status.busy": "2022-02-11T05:30:37.626914Z",
          "iopub.execute_input": "2022-02-11T05:30:37.628037Z",
          "iopub.status.idle": "2022-02-11T05:30:37.635891Z",
          "shell.execute_reply.started": "2022-02-11T05:30:37.627979Z",
          "shell.execute_reply": "2022-02-11T05:30:37.635111Z"
        },
        "id": "sRpB-GA0BRAx"
      }
    },
    {
      "cell_type": "markdown",
      "source": [
        "## Teste / Treino\n"
      ],
      "metadata": {
        "id": "jDoHtpFTBRAy"
      }
    },
    {
      "cell_type": "code",
      "source": [
        "from sklearn.model_selection import train_test_split"
      ],
      "metadata": {
        "execution": {
          "iopub.status.busy": "2022-02-11T06:12:32.85376Z",
          "iopub.execute_input": "2022-02-11T06:12:32.854329Z",
          "iopub.status.idle": "2022-02-11T06:12:32.911477Z",
          "shell.execute_reply.started": "2022-02-11T06:12:32.854293Z",
          "shell.execute_reply": "2022-02-11T06:12:32.910692Z"
        },
        "trusted": true,
        "id": "9dA5BVBSBRAz"
      },
      "execution_count": null,
      "outputs": []
    },
    {
      "cell_type": "code",
      "source": [
        "X_Treino, X_teste, Y_Treino, y_teste = train_test_split(data.drop(['Tipo de falha','Falha'],axis=1),\n",
        "                                                    data['Falha'], test_size=0.3, random_state=42)"
      ],
      "metadata": {
        "execution": {
          "iopub.status.busy": "2022-02-11T06:12:43.499745Z",
          "iopub.execute_input": "2022-02-11T06:12:43.500209Z",
          "iopub.status.idle": "2022-02-11T06:12:43.510025Z",
          "shell.execute_reply.started": "2022-02-11T06:12:43.50016Z",
          "shell.execute_reply": "2022-02-11T06:12:43.509378Z"
        },
        "trusted": true,
        "id": "4XnIB4MWBRA0"
      },
      "execution_count": null,
      "outputs": []
    },
    {
      "cell_type": "markdown",
      "source": [
        "## Predição"
      ],
      "metadata": {
        "id": "r5spVBBXBRA1"
      }
    },
    {
      "cell_type": "code",
      "source": [
        "import time\n",
        "\n",
        "from sklearn.metrics import accuracy_score,classification_report\n",
        "classifier=[]\n",
        "imported_as=[]\n",
        "\n",
        "#LGBM\n",
        "import lightgbm as lgb\n",
        "lgbm = lgb.LGBMClassifier()\n",
        "classifier.append('LightGBM')\n",
        "imported_as.append('lgbm')\n",
        "\n",
        "#MultiLayerPerceptron\n",
        "from sklearn.neural_network import MLPClassifier\n",
        "mlp=MLPClassifier()\n",
        "classifier.append('Multi Layer Perceptron')\n",
        "imported_as.append('mlp')\n",
        "\n",
        "#Bagging\n",
        "from sklearn.ensemble import BaggingClassifier\n",
        "bc = BaggingClassifier()\n",
        "classifier.append('Bagging')\n",
        "imported_as.append('bc')\n",
        "\n",
        "#GBC\n",
        "from sklearn.ensemble import GradientBoostingClassifier\n",
        "gbc = GradientBoostingClassifier()\n",
        "classifier.append('Gradient Boosting')\n",
        "imported_as.append('gbc')\n",
        "\n",
        "#ADA\n",
        "from sklearn.ensemble import AdaBoostClassifier\n",
        "ada = AdaBoostClassifier()\n",
        "classifier.append('Ada Boost')\n",
        "imported_as.append('ada')\n",
        "\n",
        "#XGB\n",
        "import xgboost as xgb\n",
        "from xgboost import XGBClassifier\n",
        "xgb = XGBClassifier() \n",
        "classifier.append('XG Boost')\n",
        "imported_as.append('xgb')\n",
        "\n",
        "# Logistic Regression\n",
        "from sklearn.linear_model import LogisticRegression\n",
        "lr = LogisticRegression()\n",
        "classifier.append('Logistic Regression')\n",
        "imported_as.append('lr')\n",
        "\n",
        "#RFC\n",
        "from sklearn.ensemble import RandomForestClassifier\n",
        "rfc = RandomForestClassifier()\n",
        "classifier.append('Random Forest')\n",
        "imported_as.append('rfc')\n",
        "\n",
        "#KNN\n",
        "from sklearn.neighbors import KNeighborsClassifier\n",
        "knn = KNeighborsClassifier(n_neighbors=1)\n",
        "classifier.append('k Nearest Neighbours')\n",
        "imported_as.append('knn')\n",
        "\n",
        "#SVM\n",
        "from sklearn.svm import SVC\n",
        "svc = SVC()\n",
        "classifier.append('Support Vector Machine')\n",
        "imported_as.append('svc')\n",
        "\n",
        "#Grid\n",
        "from sklearn.model_selection import GridSearchCV\n",
        "param_grid = {'C': [0.1,1, 10, 100, 1000,2000], 'gamma': [1,0.1,0.01,0.001,0.0001], 'kernel': ['rbf']} \n",
        "grid = GridSearchCV(SVC(),param_grid,refit=True,verbose=3)\n",
        "classifier.append('SVM tuning grid')\n",
        "imported_as.append('grid')\n",
        "\n",
        "#STcaking\n",
        "from sklearn.ensemble import StackingClassifier\n",
        "estimators=[('rf', RandomForestClassifier(n_estimators=10, random_state=42)),\n",
        "            ('svr',SVC(random_state=42))]\n",
        "stc = StackingClassifier(estimators=estimators, final_estimator=LogisticRegression())\n",
        "classifier.append('Stacked (RFR & SVM)')\n",
        "imported_as.append('stc')\n",
        "\n",
        "classifiers = pd.DataFrame({'Classifier':classifier,'Imported as':imported_as})\n",
        "print('All Models Imported\\nModels stored in dataframe called classifiers')"
      ],
      "metadata": {
        "_kg_hide-input": true,
        "execution": {
          "iopub.status.busy": "2022-02-11T06:12:45.369706Z",
          "iopub.execute_input": "2022-02-11T06:12:45.370271Z",
          "iopub.status.idle": "2022-02-11T06:12:45.983191Z",
          "shell.execute_reply.started": "2022-02-11T06:12:45.370234Z",
          "shell.execute_reply": "2022-02-11T06:12:45.982261Z"
        },
        "trusted": true,
        "id": "tGi83BX8BRA1"
      },
      "execution_count": null,
      "outputs": []
    },
    {
      "cell_type": "code",
      "source": [
        "class Modelling:\n",
        "    def __init__(self, X_Treino, Y_Treino, X_teste, Y_teste, models):\n",
        "        self.X_Treino = X_Treino\n",
        "        self.X_teste = X_teste\n",
        "        self.Y_Treino = Y_Treino\n",
        "        self.Y_teste = Y_teste\n",
        "        self.models = models\n",
        "    \n",
        "    def fit(self):\n",
        "        model_acc = []\n",
        "        model_time= []\n",
        "        for i in self.models:\n",
        "            start=time.time()\n",
        "            if i == 'knn':\n",
        "                accuracy = []\n",
        "                for j in range(1,200):    \n",
        "                    kn = KNeighborsClassifier(n_neighbors=j)\n",
        "                    kn.fit(self.X_Treino,self.Y_Treino)\n",
        "                    predK = kn.predict(self.X_teste)\n",
        "                    accuracy.append([accuracy_score(self.Y_test,predK),j])\n",
        "                temp = accuracy[0]\n",
        "                for m in accuracy:\n",
        "                    if temp[0] < m[0]:\n",
        "                        temp=m\n",
        "                i = KNeighborsClassifier(n_neighbors=temp[1])\n",
        "            i.fit(self.X_Treino,self.Y_Treino)\n",
        "            model_acc.append(accuracy_score(self.Y_teste,i.predict(self.X_teste)))\n",
        "            stop=time.time()\n",
        "            model_time.append((stop-start))\n",
        "            print(i,'has been fit')\n",
        "        self.models_output = pd.DataFrame({'Models':self.models,'Accuracy':model_acc,'Runtime (s)':model_time})\n",
        "        \n",
        "    def results(self):\n",
        "        models=self.models_output\n",
        "        models = models.sort_values(by=['Accuracy','Runtime (s)'],ascending=[False,True]).reset_index().drop('index',axis=1)\n",
        "        self.best = models['Models'][0]\n",
        "        models['Models']=models['Models'].astype(str).str.split(\"(\", n = 2, expand = True)[0]\n",
        "        models['Accuracy']=models['Accuracy'].round(5)*100\n",
        "        self.models_output_cleaned=models\n",
        "        return(models)\n",
        "        \n",
        "    def best_model(self,type):\n",
        "        if type=='model':\n",
        "            return(self.best)\n",
        "        elif type=='name':\n",
        "            return(self.models_output_cleaned['Models'][0])\n",
        "    \n",
        "    def best_model_accuracy(self):\n",
        "        return(self.models_output_cleaned['Accuracy'][0])\n",
        "    \n",
        "    def best_model_runtime(self):\n",
        "        return(round(self.models_output_cleaned['Runtime (s)'][0],3))\n",
        "    \n",
        "    def best_model_predict(self,X_teste):\n",
        "        return(self.best.predict(X_teste))\n",
        "    \n",
        "    def best_model_clmatrix(self):\n",
        "        return(classification_report(self.Y_teste,self.best.predict(self.X_teste)))"
      ],
      "metadata": {
        "_kg_hide-input": true,
        "execution": {
          "iopub.status.busy": "2022-02-11T06:12:46.604892Z",
          "iopub.execute_input": "2022-02-11T06:12:46.605226Z",
          "iopub.status.idle": "2022-02-11T06:12:46.627364Z",
          "shell.execute_reply.started": "2022-02-11T06:12:46.605193Z",
          "shell.execute_reply": "2022-02-11T06:12:46.626618Z"
        },
        "trusted": true,
        "id": "MEAzWEQVBRA5"
      },
      "execution_count": null,
      "outputs": []
    },
    {
      "cell_type": "code",
      "source": [
        "display(classifiers)"
      ],
      "metadata": {
        "execution": {
          "iopub.status.busy": "2022-02-11T06:12:47.947862Z",
          "iopub.execute_input": "2022-02-11T06:12:47.948141Z",
          "iopub.status.idle": "2022-02-11T06:12:47.959467Z",
          "shell.execute_reply.started": "2022-02-11T06:12:47.948105Z",
          "shell.execute_reply": "2022-02-11T06:12:47.958416Z"
        },
        "trusted": true,
        "id": "Sjjf5wKoBRA7"
      },
      "execution_count": null,
      "outputs": []
    },
    {
      "cell_type": "code",
      "source": [
        "models_to_test = [bc,gbc,ada,rfc,mlp,lr,knn,stc]"
      ],
      "metadata": {
        "execution": {
          "iopub.status.busy": "2022-02-11T06:12:58.252413Z",
          "iopub.execute_input": "2022-02-11T06:12:58.253165Z",
          "iopub.status.idle": "2022-02-11T06:12:58.257637Z",
          "shell.execute_reply.started": "2022-02-11T06:12:58.253121Z",
          "shell.execute_reply": "2022-02-11T06:12:58.25673Z"
        },
        "trusted": true,
        "id": "QpPXg8rlBRA8"
      },
      "execution_count": null,
      "outputs": []
    },
    {
      "cell_type": "code",
      "source": [
        "X_Treino.info()"
      ],
      "metadata": {
        "execution": {
          "iopub.status.busy": "2022-02-11T06:12:58.556283Z",
          "iopub.execute_input": "2022-02-11T06:12:58.557047Z",
          "iopub.status.idle": "2022-02-11T06:12:58.569573Z",
          "shell.execute_reply.started": "2022-02-11T06:12:58.557005Z",
          "shell.execute_reply": "2022-02-11T06:12:58.568686Z"
        },
        "trusted": true,
        "id": "ehByHDmgBRA-"
      },
      "execution_count": null,
      "outputs": []
    },
    {
      "cell_type": "code",
      "source": [
        "classification = Modelling(X_Treino,Y_Treino,X_teste,y_teste,models_to_test)\n",
        "classification.fit()"
      ],
      "metadata": {
        "execution": {
          "iopub.status.busy": "2022-02-11T06:12:59.389272Z",
          "iopub.execute_input": "2022-02-11T06:12:59.389575Z",
          "iopub.status.idle": "2022-02-11T06:13:06.785643Z",
          "shell.execute_reply.started": "2022-02-11T06:12:59.38954Z",
          "shell.execute_reply": "2022-02-11T06:13:06.784677Z"
        },
        "trusted": true,
        "id": "8xrV5xR6BRA-"
      },
      "execution_count": null,
      "outputs": []
    },
    {
      "cell_type": "code",
      "source": [
        "classification.results()"
      ],
      "metadata": {
        "execution": {
          "iopub.status.busy": "2022-02-11T06:13:06.787812Z",
          "iopub.execute_input": "2022-02-11T06:13:06.78871Z",
          "iopub.status.idle": "2022-02-11T06:13:06.812659Z",
          "shell.execute_reply.started": "2022-02-11T06:13:06.788673Z",
          "shell.execute_reply": "2022-02-11T06:13:06.811645Z"
        },
        "trusted": true,
        "id": "lLv_QSfSBRA_"
      },
      "execution_count": null,
      "outputs": []
    },
    {
      "cell_type": "code",
      "source": [
        "print('O Melhor modelo é:',  classification.best_model(type='name'))\n",
        "print('Acurácia do modelo:',classification.best_model_accuracy())\n",
        "print('Tempo de treino (s) ',classification.best_model_runtime())\n",
        "print('Matriz de Classificação:\\n')\n",
        "print(classification.best_model_clmatrix())"
      ],
      "metadata": {
        "execution": {
          "iopub.status.busy": "2022-02-11T06:13:14.74007Z",
          "iopub.execute_input": "2022-02-11T06:13:14.740348Z",
          "iopub.status.idle": "2022-02-11T06:13:14.763537Z",
          "shell.execute_reply.started": "2022-02-11T06:13:14.740319Z",
          "shell.execute_reply": "2022-02-11T06:13:14.762534Z"
        },
        "trusted": true,
        "id": "VHwcGTGpBRA_"
      },
      "execution_count": null,
      "outputs": []
    },
    {
      "cell_type": "code",
      "source": [
        "sns.set_style(\"darkgrid\", {\"grid.color\": \"1\", \"grid.linestyle\": \" \"})\n",
        "\n",
        "from sklearn.metrics import plot_confusion_matrix\n",
        "plot_confusion_matrix(classification.best_model(type='model'), X_teste, y_teste) "
      ],
      "metadata": {
        "execution": {
          "iopub.status.busy": "2022-02-11T06:13:22.948015Z",
          "iopub.execute_input": "2022-02-11T06:13:22.948288Z",
          "iopub.status.idle": "2022-02-11T06:13:23.231438Z",
          "shell.execute_reply.started": "2022-02-11T06:13:22.948259Z",
          "shell.execute_reply": "2022-02-11T06:13:23.230679Z"
        },
        "trusted": true,
        "id": "_SsB8U4wBRBA"
      },
      "execution_count": null,
      "outputs": []
    }
  ]
}
